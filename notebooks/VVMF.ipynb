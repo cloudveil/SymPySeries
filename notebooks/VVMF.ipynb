{
 "metadata": {
  "name": "",
  "signature": "sha256:5d3d9a0dfe3feda7cc80d84af30743cbb8488c9ac22d67ea3070d4bfb14c5eda"
 },
 "nbformat": 3,
 "nbformat_minor": 0,
 "worksheets": [
  {
   "cells": [
    {
     "cell_type": "code",
     "collapsed": false,
     "input": [
      "from IPython.display import display\n",
      "\n",
      "from sympy import *\n",
      "from sympy.abc import a, n\n",
      "from sympy.interactive import printing\n",
      "\n",
      "import sys\n",
      "sys.path.append('../src')\n",
      "from utilities import NumericalSeries, SymbolicSeries\n",
      "\n",
      "printing.init_printing(use_latex='mathjax')"
     ],
     "language": "python",
     "metadata": {},
     "outputs": [],
     "prompt_number": 6
    },
    {
     "cell_type": "markdown",
     "metadata": {},
     "source": [
      "These notebooks allow for LaTeX input, so you can document the code\n",
      "with nicely formatted equations:\n",
      "\n",
      "$ \\displaystyle \\sigma_k(n) = \\sum_{d|n} d^k $"
     ]
    },
    {
     "cell_type": "code",
     "collapsed": false,
     "input": [
      "def sigma(n, k):\n",
      "    return sum([d**k for d in divisors(n)])"
     ],
     "language": "python",
     "metadata": {},
     "outputs": [],
     "prompt_number": 7
    },
    {
     "cell_type": "code",
     "collapsed": false,
     "input": [
      "E4, E6 = NumericalSeries.E(4), NumericalSeries.E(6)"
     ],
     "language": "python",
     "metadata": {},
     "outputs": [],
     "prompt_number": 8
    },
    {
     "cell_type": "code",
     "collapsed": false,
     "input": [
      "delta = (Rational(1, 1728) * (E4*E4*E4 - E6*E6)); delta.a[0:9]"
     ],
     "language": "python",
     "metadata": {},
     "outputs": [
      {
       "latex": [
        "$$\\begin{bmatrix}1, & -24, & 252, & -1472, & 4830, & -6048, & -16744, & 84480, & -113643\\end{bmatrix}$$"
       ],
       "metadata": {},
       "output_type": "pyout",
       "prompt_number": 9,
       "text": [
        "[1, -24, 252, -1472, 4830, -6048, -16744, 84480, -113643]"
       ]
      }
     ],
     "prompt_number": 9
    },
    {
     "cell_type": "code",
     "collapsed": false,
     "input": [
      "r1, r2, k, c = symbols(\"r1 r2 k c\", rational=True)"
     ],
     "language": "python",
     "metadata": {},
     "outputs": [],
     "prompt_number": 10
    },
    {
     "cell_type": "code",
     "collapsed": false,
     "input": [
      "f = SymbolicSeries(r1)\n",
      "g = SymbolicSeries(r2)"
     ],
     "language": "python",
     "metadata": {},
     "outputs": [],
     "prompt_number": 11
    },
    {
     "cell_type": "code",
     "collapsed": false,
     "input": [
      "(f.mdiff(4, 2) + c * SymbolicSeries.E(4) * f).coef"
     ],
     "language": "python",
     "metadata": {},
     "outputs": [
      {
       "latex": [
        "$$\\left(n + r_{1}\\right) \\left(\\left(n + r_{1}\\right) a{\\left (n \\right )} - \\sum_{j_{1}=0}^{n} 8 a{\\left (- j_{1} + n \\right )} \\sigma{\\left (j_{1},1 \\right )}\\right) - \\sum_{j_{2}=0}^{n} 12 \\left(\\left(- j_{2} + n + r_{1}\\right) a{\\left (- j_{2} + n \\right )} - \\sum_{j_{1}=0}^{- j_{2} + n} 8 a{\\left (- j_{1} - j_{2} + n \\right )} \\sigma{\\left (j_{1},1 \\right )}\\right) \\sigma{\\left (j_{2},1 \\right )} + \\sum_{j_{1}=0}^{n} - 240 c a{\\left (- j_{1} + n \\right )} \\sigma{\\left (j_{1},3 \\right )}$$"
       ],
       "metadata": {},
       "output_type": "pyout",
       "prompt_number": 46,
       "text": [
        "                                                            n                 \n",
        "                                                          ______              \n",
        "                                                          \u2572                   \n",
        "         \u239b                  n                         \u239e    \u2572        \u239b         \n",
        "         \u239c                 ___                        \u239f     \u2572       \u239c         \n",
        "         \u239c                 \u2572                          \u239f      \u2572      \u239c         \n",
        "         \u239c                  \u2572    8\u22c5a(-j\u2081 + n)\u22c5\u03c3(j\u2081, 1)\u239f       \u2572     \u239c         \n",
        "(n + r\u2081)\u22c5\u239c(n + r\u2081)\u22c5a(n) -   \u2571                         \u239f -     \u2571  12\u22c5\u239c(-j\u2082 + n \n",
        "         \u239c                 \u2571                          \u239f      \u2571      \u239c         \n",
        "         \u239c                 \u203e\u203e\u203e                        \u239f     \u2571       \u239c         \n",
        "         \u239d                j\u2081 = 0                      \u23a0    \u2571        \u239d         \n",
        "                                                          \u2571                   \n",
        "                                                          \u203e\u203e\u203e\u203e\u203e\u203e              \n",
        "                                                          j\u2082 = 0              \n",
        "\n",
        "                                                                              \n",
        "                                                                              \n",
        "                                                                              \n",
        "                   -j\u2082 + n                           \u239e              n         \n",
        "                     ___                             \u239f             ___        \n",
        "                     \u2572                               \u239f             \u2572          \n",
        "                      \u2572    8\u22c5a(-j\u2081 - j\u2082 + n)\u22c5\u03c3(j\u2081, 1)\u239f              \u2572    -240\u22c5\n",
        "+ r\u2081)\u22c5a(-j\u2082 + n) -    \u2571                              \u239f\u22c5\u03c3(j\u2082, 1) +   \u2571         \n",
        "                     \u2571                               \u239f             \u2571          \n",
        "                     \u203e\u203e\u203e                             \u239f             \u203e\u203e\u203e        \n",
        "                    j\u2081 = 0                           \u23a0            j\u2081 = 0      \n",
        "                                                                              \n",
        "                                                                              \n",
        "                                                                              \n",
        "\n",
        "                     \n",
        "                     \n",
        "                     \n",
        "                     \n",
        "                     \n",
        "                     \n",
        "c\u22c5a(-j\u2081 + n)\u22c5\u03c3(j\u2081, 3)\n",
        "                     \n",
        "                     \n",
        "                     \n",
        "                     \n",
        "                     \n",
        "                     \n",
        "                     "
       ]
      }
     ],
     "prompt_number": 46
    },
    {
     "cell_type": "code",
     "collapsed": false,
     "input": [
      "(f.mdiff(4, 2) + c * SymbolicSeries.E(4) * f).coef.subs(n, 0).doit()"
     ],
     "language": "python",
     "metadata": {},
     "outputs": [
      {
       "latex": [
        "$$- 240 c a{\\left (0 \\right )} \\sigma{\\left (0,3 \\right )} + r_{1} \\left(r_{1} a{\\left (0 \\right )} - 8 a{\\left (0 \\right )} \\sigma{\\left (0,1 \\right )}\\right) - 12 \\left(r_{1} a{\\left (0 \\right )} - 8 a{\\left (0 \\right )} \\sigma{\\left (0,1 \\right )}\\right) \\sigma{\\left (0,1 \\right )}$$"
       ],
       "metadata": {},
       "output_type": "pyout",
       "prompt_number": 53,
       "text": [
        "-240\u22c5c\u22c5a(0)\u22c5\u03c3(0, 3) + r\u2081\u22c5(r\u2081\u22c5a(0) - 8\u22c5a(0)\u22c5\u03c3(0, 1)) - 12\u22c5(r\u2081\u22c5a(0) - 8\u22c5a(0)\u22c5\u03c3(0\n",
        ", 1))\u22c5\u03c3(0, 1)"
       ]
      }
     ],
     "prompt_number": 53
    },
    {
     "cell_type": "code",
     "collapsed": false,
     "input": [
      "(Function(\"sigma\")(3, 13)).replace(Function(\"sigma\"), lambda *args: sigma(*args))"
     ],
     "language": "python",
     "metadata": {},
     "outputs": [
      {
       "latex": [
        "$$1594324$$"
       ],
       "metadata": {},
       "output_type": "pyout",
       "prompt_number": 35,
       "text": [
        "1594324"
       ]
      }
     ],
     "prompt_number": 35
    },
    {
     "cell_type": "code",
     "collapsed": false,
     "input": [
      "a1eqn = solve((f.mdiff(4, 2) + c * SymbolicSeries.E(4) * f).coef.subs(n, 1).doit().replace(Function(\"sigma\"), lambda *args: sigma(*args)), Function(\"a\")(1))[0]"
     ],
     "language": "python",
     "metadata": {},
     "outputs": [],
     "prompt_number": 73
    },
    {
     "cell_type": "code",
     "collapsed": false,
     "input": [
      "solve((f.mdiff(4, 2) + c * SymbolicSeries.E(4) * f).coef.subs(n, 1).doit(), Function(\"a\")(1))"
     ],
     "language": "python",
     "metadata": {},
     "outputs": [
      {
       "latex": [
        "$$\\begin{bmatrix}\\frac{4 \\left(60 c \\sigma{\\left (1,3 \\right )} + 5 r_{1} \\sigma{\\left (1,1 \\right )} - 48 \\sigma{\\left (0,1 \\right )} \\sigma{\\left (1,1 \\right )} + 2 \\sigma{\\left (1,1 \\right )}\\right) a{\\left (0 \\right )}}{- 240 c \\sigma{\\left (0,3 \\right )} + r_{1}^{2} - 20 r_{1} \\sigma{\\left (0,1 \\right )} + 2 r_{1} + 96 \\sigma^{2}{\\left (0,1 \\right )} - 20 \\sigma{\\left (0,1 \\right )} + 1}\\end{bmatrix}$$"
       ],
       "metadata": {},
       "output_type": "pyout",
       "prompt_number": 68,
       "text": [
        "\u23a1  4\u22c5(60\u22c5c\u22c5\u03c3(1, 3) + 5\u22c5r\u2081\u22c5\u03c3(1, 1) - 48\u22c5\u03c3(0, 1)\u22c5\u03c3(1, 1) + 2\u22c5\u03c3(1, 1))\u22c5a(0)   \u23a4\n",
        "\u23a2\u2500\u2500\u2500\u2500\u2500\u2500\u2500\u2500\u2500\u2500\u2500\u2500\u2500\u2500\u2500\u2500\u2500\u2500\u2500\u2500\u2500\u2500\u2500\u2500\u2500\u2500\u2500\u2500\u2500\u2500\u2500\u2500\u2500\u2500\u2500\u2500\u2500\u2500\u2500\u2500\u2500\u2500\u2500\u2500\u2500\u2500\u2500\u2500\u2500\u2500\u2500\u2500\u2500\u2500\u2500\u2500\u2500\u2500\u2500\u2500\u2500\u2500\u2500\u2500\u2500\u2500\u2500\u2500\u2500\u2500\u2500\u2500\u2500\u2500\u23a5\n",
        "\u23a2                   2                              2                       \u23a5\n",
        "\u23a3-240\u22c5c\u22c5\u03c3(0, 3) + r\u2081  - 20\u22c5r\u2081\u22c5\u03c3(0, 1) + 2\u22c5r\u2081 + 96\u22c5\u03c3 (0, 1) - 20\u22c5\u03c3(0, 1) + 1\u23a6"
       ]
      }
     ],
     "prompt_number": 68
    },
    {
     "cell_type": "code",
     "collapsed": false,
     "input": [
      "a1eqn.replace(Function(\"a\")(0), 1).replace(c, 1).replace(r1, Rational(1, 6))"
     ],
     "language": "python",
     "metadata": {},
     "outputs": [
      {
       "latex": [
        "$$\\frac{9048}{49}$$"
       ],
       "metadata": {},
       "output_type": "pyout",
       "prompt_number": 84,
       "text": [
        "9048\n",
        "\u2500\u2500\u2500\u2500\n",
        " 49 "
       ]
      }
     ],
     "prompt_number": 84
    },
    {
     "cell_type": "code",
     "collapsed": false,
     "input": [
      "h = SymbolicSeries(Rational(0, 1))"
     ],
     "language": "python",
     "metadata": {},
     "outputs": [],
     "prompt_number": 13
    },
    {
     "cell_type": "markdown",
     "metadata": {},
     "source": [
      "temp"
     ]
    },
    {
     "cell_type": "code",
     "collapsed": false,
     "input": [
      "(h.diff(2) + h.offset(1)).coef.subs(n, 3).doit()"
     ],
     "language": "python",
     "metadata": {},
     "outputs": [
      {
       "latex": [
        "$$a{\\left (2 \\right )} + 20 a{\\left (5 \\right )}$$"
       ],
       "metadata": {},
       "output_type": "pyout",
       "prompt_number": 58,
       "text": [
        "a(2) + 20\u22c5a(5)"
       ]
      }
     ],
     "prompt_number": 58
    },
    {
     "cell_type": "code",
     "collapsed": false,
     "input": [
      "a = {}\n",
      "a[-1] = 0\n",
      "a[0] = 0\n",
      "a[1] = 1\n",
      "for i in range(0, 30):\n",
      "  a[i+2] = -sympify(a[i-1]) / ((i + 1)*(i + 2))\n",
      "[a[i] for i in range(0, 10)]"
     ],
     "language": "python",
     "metadata": {},
     "outputs": [
      {
       "latex": [
        "$$\\begin{bmatrix}0, & 1, & 0, & 0, & - \\frac{1}{12}, & 0, & 0, & \\frac{1}{504}, & 0, & 0\\end{bmatrix}$$"
       ],
       "metadata": {},
       "output_type": "pyout",
       "prompt_number": 15,
       "text": [
        "[0, 1, 0, 0, -1/12, 0, 0, 1/504, 0, 0]"
       ]
      }
     ],
     "prompt_number": 15
    },
    {
     "cell_type": "code",
     "collapsed": false,
     "input": [
      "(E4 * E4 * E4 * E4).a[0:8]"
     ],
     "language": "python",
     "metadata": {},
     "outputs": [
      {
       "latex": [
        "$$\\begin{bmatrix}1, & 960, & 354240, & 61543680, & 4858169280, & 137745912960, & 2120861041920, & 21423820362240\\end{bmatrix}$$"
       ],
       "metadata": {},
       "output_type": "pyout",
       "prompt_number": 16,
       "text": [
        "[1, 960, 354240, 61543680, 4858169280, 137745912960, 2120861041920, 2142382036\n",
        "2240]"
       ]
      }
     ],
     "prompt_number": 16
    },
    {
     "cell_type": "code",
     "collapsed": false,
     "input": [
      "(E4 * E6 * E6).a[0:8]"
     ],
     "language": "python",
     "metadata": {},
     "outputs": [
      {
       "latex": [
        "$$\\begin{bmatrix}1, & -768, & -19008, & 67329024, & 4834170816, & 137655866880, & 2122110676224, & 21418943158272\\end{bmatrix}$$"
       ],
       "metadata": {},
       "output_type": "pyout",
       "prompt_number": 17,
       "text": [
        "[1, -768, -19008, 67329024, 4834170816, 137655866880, 2122110676224, 214189431\n",
        "58272]"
       ]
      }
     ],
     "prompt_number": 17
    },
    {
     "cell_type": "code",
     "collapsed": false,
     "input": [],
     "language": "python",
     "metadata": {},
     "outputs": [],
     "prompt_number": 17
    },
    {
     "cell_type": "code",
     "collapsed": false,
     "input": [],
     "language": "python",
     "metadata": {},
     "outputs": [],
     "prompt_number": 17
    }
   ],
   "metadata": {}
  }
 ]
}