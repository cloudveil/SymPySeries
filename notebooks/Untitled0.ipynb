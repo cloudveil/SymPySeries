{
 "metadata": {
  "name": "",
  "signature": "sha256:8cf9eb26b79b932cb87c2bc060dea5e5d9d4fe7edd3250afd7fee268f8d749de"
 },
 "nbformat": 3,
 "nbformat_minor": 0,
 "worksheets": [
  {
   "cells": [
    {
     "cell_type": "code",
     "collapsed": false,
     "input": [
      "from sympy import *"
     ],
     "language": "python",
     "metadata": {},
     "outputs": [],
     "prompt_number": 1
    },
    {
     "cell_type": "code",
     "collapsed": false,
     "input": [
      "import collections\n",
      "import functools\n",
      "\n",
      "class memoized(object):\n",
      "  '''Decorator. Caches a function's return value each time it is called.\n",
      "  If called later with the same arguments, the cached value is returned\n",
      "  (not reevaluated).\n",
      "  '''\n",
      "  def __init__(self, func):\n",
      "     self.func = func\n",
      "     self.cache = {}\n",
      "  def __call__(self, *args):\n",
      "     if not isinstance(args, collections.Hashable):\n",
      "        # uncacheable. a list, for instance.\n",
      "        # better to not cache than blow up.\n",
      "        return self.func(*args)\n",
      "     if args in self.cache:\n",
      "        return self.cache[args]\n",
      "     else:\n",
      "        value = self.func(*args)\n",
      "        self.cache[args] = value\n",
      "        return value\n",
      "  def __repr__(self):\n",
      "     '''Return the function's docstring.'''\n",
      "     return self.func.__doc__\n",
      "  def __get__(self, obj, objtype):\n",
      "     '''Support instance methods.'''\n",
      "     return functools.partial(self.__call__, obj)\n"
     ],
     "language": "python",
     "metadata": {},
     "outputs": [],
     "prompt_number": 2
    },
    {
     "cell_type": "code",
     "collapsed": false,
     "input": [
      "@memoized\n",
      "def sigma(n, k):\n",
      "  return sum([d**k for d in divisors(n)])"
     ],
     "language": "python",
     "metadata": {},
     "outputs": [],
     "prompt_number": 3
    },
    {
     "cell_type": "code",
     "collapsed": false,
     "input": [
      "# coefficients of P:=-1/12E_2\n",
      "@memoized\n",
      "def A(n):\n",
      "  if n==0:\n",
      "    return -Rational(1,12)\n",
      "  else:\n",
      "    return 2*sigma(n,1)"
     ],
     "language": "python",
     "metadata": {},
     "outputs": [],
     "prompt_number": 4
    },
    {
     "cell_type": "code",
     "collapsed": false,
     "input": [
      "# coefficients of P^2\n",
      "@memoized\n",
      "def B(n):\n",
      "  return sum([A(j)*A(n-j) for j in range(0, n+1)])\n"
     ],
     "language": "python",
     "metadata": {},
     "outputs": [],
     "prompt_number": 5
    },
    {
     "cell_type": "code",
     "collapsed": false,
     "input": [
      "# coefficients of qdP/dq\n",
      "@memoized\n",
      "def C(n):\n",
      "  return n*A(n)\n"
     ],
     "language": "python",
     "metadata": {},
     "outputs": [],
     "prompt_number": 6
    },
    {
     "cell_type": "code",
     "collapsed": false,
     "input": [
      "# coefficients of E_4\n",
      "@memoized\n",
      "def E(n):\n",
      "  if n==0:\n",
      "    return 1\n",
      "  else:\n",
      "    return 240*sigma(n,3)"
     ],
     "language": "python",
     "metadata": {},
     "outputs": [],
     "prompt_number": 7
    },
    {
     "cell_type": "code",
     "collapsed": false,
     "input": [
      "# these are the coeffs of the function in front of df/dq\n",
      "@memoized\n",
      "def G(n,k):  \n",
      "  if n==0:\n",
      "    return 1+A(0)*(2*k+2)\n",
      "  else:\n",
      "    return A(n)*(2*k+2)"
     ],
     "language": "python",
     "metadata": {},
     "outputs": [],
     "prompt_number": 8
    },
    {
     "cell_type": "code",
     "collapsed": false,
     "input": [
      "# these are the coeffs of the function in front of f\n",
      "@memoized\n",
      "def H(n,k,c): \n",
      "  return k*C(n)+k*(k+2)*B(n)+c*E(n)"
     ],
     "language": "python",
     "metadata": {},
     "outputs": [],
     "prompt_number": 9
    },
    {
     "cell_type": "code",
     "collapsed": false,
     "input": [
      "# Recursive solution to second order MMDE D_k^2f+cE_4f=0, defined as a function of the\n",
      "# indicial roots a,b and an exponent m (to determine where to terminate the recursion).\n",
      "# Note: this function uses both a and b in the formula for the weight k and the constant c, \n",
      "# but will give the coefficients for the solution whose leading exponent is a.\n",
      "def coef_F(a,b,m):\n",
      "  print a, b\n",
      "  k=(6*(a+b))-1\n",
      "  c=a*b-Rational(k*(k+2), 144)      \n",
      "  S=[1]\n",
      "  for n in range(1, m+1):\n",
      "    S.append(-(sum([(G(n-j,k)*(j+a)+H(n-j,k,c))*S[j] for j in range(0, n)]))/((a+n)*(a+n-1)+(a+n)*G(0,k)+H(0,k,c)))\n",
      "  print S"
     ],
     "language": "python",
     "metadata": {},
     "outputs": [],
     "prompt_number": 10
    },
    {
     "cell_type": "code",
     "collapsed": false,
     "input": [
      "# Recursive solution to second order MMDE D_k^2f+cE_4f=0, defined as a function of the\n",
      "# indicial roots a,b and an exponent m (to determine where to terminate the recursion).\n",
      "# Note: this function uses both a and b in the formula for the weight k and the constant c, \n",
      "# but will give the coefficients for the solution whose leading exponent is a.\n",
      "@memoized\n",
      "def coef_F_2(a,b,n):\n",
      "  if(n == 0):\n",
      "    return 1\n",
      "  else:   \n",
      "    k=(6*(a+b))-1\n",
      "    c=a*b-Rational(k*(k+2), 144)\n",
      "    return (-(sum([(G(n-j,k)*(j+a)+H(n-j,k,c))*coef_F_2(a, b, j) for j in range(0, n)]))/((a+n)*(a+n-1)+(a+n)*G(0,k)+H(0,k,c)))\n"
     ],
     "language": "python",
     "metadata": {},
     "outputs": [],
     "prompt_number": 11
    },
    {
     "cell_type": "code",
     "collapsed": false,
     "input": [
      "# factor the denoms of the first m coeffs\n",
      "def D(a,b,m):\n",
      "  k=(6*(a+b))-1\n",
      "  c=a*b-((k*(k+2))/144)      \n",
      "  S=[1]\n",
      "  for n in range(1, m+1):\n",
      "    S.append(-(sum([(G(n-j,k)*(j+a)+H(n-j,k,c))*S[j] for j in [0..n-1]]))/((a+n)*(a+n-1)+(a+n)*G(0,k)+H(0,k,c)))\n",
      "  d=[]\n",
      "  for n in range(0, m+1):\n",
      "    d.append(factor(S[n].denominator()))\n",
      "  print d"
     ],
     "language": "python",
     "metadata": {},
     "outputs": [],
     "prompt_number": 12
    },
    {
     "cell_type": "code",
     "collapsed": false,
     "input": [
      "%time coef_F(Rational(1,3), Rational(5,6), 50)"
     ],
     "language": "python",
     "metadata": {},
     "outputs": [
      {
       "output_type": "stream",
       "stream": "stdout",
       "text": [
        "1/3 5/6\n",
        "[1, 16, -148, 384, -334, 256, -664, -1536, 6091, -2368, -4564, -2304, 5798, 6144, -14872, 15360, 5097, -5344, -36864, -384, 42782, 4096, 36656, -56832, -16810, -10624, 28076, 26880, -55296, -24576, 49432, 76800, -29938, 97456, -115228, -31104, -231118, -37888, 368640, 52224, -13595, -73024, -988, -128256, 98272, -36864, 177200, -258048, -9216, 92768, -482836]"
       ]
      },
      {
       "output_type": "stream",
       "stream": "stdout",
       "text": [
        "\n",
        "CPU times: user 95 ms, sys: 15.2 ms, total: 110 ms\n",
        "Wall time: 113 ms\n"
       ]
      }
     ],
     "prompt_number": 15
    },
    {
     "cell_type": "code",
     "collapsed": true,
     "input": [
      "%time [coef_F_2(Rational(1,3), Rational(5,6), i) for i in range(0, 50)]"
     ],
     "language": "python",
     "metadata": {},
     "outputs": [
      {
       "output_type": "stream",
       "stream": "stdout",
       "text": [
        "CPU times: user 1.14 ms, sys: 43 \u00b5s, total: 1.18 ms\n",
        "Wall time: 1.18 ms\n"
       ]
      },
      {
       "metadata": {},
       "output_type": "pyout",
       "prompt_number": 18,
       "text": [
        "[1,\n",
        " 16,\n",
        " -148,\n",
        " 384,\n",
        " -334,\n",
        " 256,\n",
        " -664,\n",
        " -1536,\n",
        " 6091,\n",
        " -2368,\n",
        " -4564,\n",
        " -2304,\n",
        " 5798,\n",
        " 6144,\n",
        " -14872,\n",
        " 15360,\n",
        " 5097,\n",
        " -5344,\n",
        " -36864,\n",
        " -384,\n",
        " 42782,\n",
        " 4096,\n",
        " 36656,\n",
        " -56832,\n",
        " -16810,\n",
        " -10624,\n",
        " 28076,\n",
        " 26880,\n",
        " -55296,\n",
        " -24576,\n",
        " 49432,\n",
        " 76800,\n",
        " -29938,\n",
        " 97456,\n",
        " -115228,\n",
        " -31104,\n",
        " -231118,\n",
        " -37888,\n",
        " 368640,\n",
        " 52224,\n",
        " -13595,\n",
        " -73024,\n",
        " -988,\n",
        " -128256,\n",
        " 98272,\n",
        " -36864,\n",
        " 177200,\n",
        " -258048,\n",
        " -9216,\n",
        " 92768]"
       ]
      }
     ],
     "prompt_number": 18
    },
    {
     "cell_type": "code",
     "collapsed": false,
     "input": [
      "d=set([])\n",
      "    e=dict()\n",
      "    for n in range(1, m+1):\n",
      "      for p,deg in factorint(S[n].q).items():\n",
      "        d.add(p)\n",
      "        if p in e:\n",
      "          e[p] = max(deg, e[p])\n",
      "        else:\n",
      "          e[p] = deg    \n",
      "          print \"(prime occurring in denominator, highest power to which it occurs):\"\n",
      "          print\n",
      "          print sorted(e.items())\n",
      "          print S"
     ],
     "language": "python",
     "metadata": {},
     "outputs": [
      {
       "ename": "IndentationError",
       "evalue": "unexpected indent (<ipython-input-167-fffc9c1ab87f>, line 2)",
       "output_type": "pyerr",
       "traceback": [
        "\u001b[0;36m  File \u001b[0;32m\"<ipython-input-167-fffc9c1ab87f>\"\u001b[0;36m, line \u001b[0;32m2\u001b[0m\n\u001b[0;31m    e=dict()\u001b[0m\n\u001b[0m    ^\u001b[0m\n\u001b[0;31mIndentationError\u001b[0m\u001b[0;31m:\u001b[0m unexpected indent\n"
       ]
      }
     ],
     "prompt_number": 167
    },
    {
     "cell_type": "code",
     "collapsed": false,
     "input": [
      "[G(i, 2) for i in range(0, 10)]"
     ],
     "language": "python",
     "metadata": {},
     "outputs": [
      {
       "metadata": {},
       "output_type": "pyout",
       "prompt_number": 103,
       "text": [
        "[-5, 12, 36, 48, 84, 72, 144, 96, 180, 156]"
       ]
      }
     ],
     "prompt_number": 103
    },
    {
     "cell_type": "code",
     "collapsed": false,
     "input": [
      "[sigma(i, 2) for i in range(1, 10)]"
     ],
     "language": "python",
     "metadata": {},
     "outputs": [
      {
       "metadata": {},
       "output_type": "pyout",
       "prompt_number": 105,
       "text": [
        "[1, 5, 10, 21, 26, 50, 50, 85, 91]"
       ]
      }
     ],
     "prompt_number": 105
    },
    {
     "cell_type": "code",
     "collapsed": false,
     "input": [
      "[A(i) for i in range(0, 10)]"
     ],
     "language": "python",
     "metadata": {},
     "outputs": [
      {
       "metadata": {},
       "output_type": "pyout",
       "prompt_number": 108,
       "text": [
        "[-1, 2, 6, 8, 14, 12, 24, 16, 30, 26]"
       ]
      }
     ],
     "prompt_number": 108
    },
    {
     "cell_type": "code",
     "collapsed": false,
     "input": [
      "[B(i) for i in range(1, 10)]"
     ],
     "language": "python",
     "metadata": {},
     "outputs": [
      {
       "metadata": {},
       "output_type": "pyout",
       "prompt_number": 107,
       "text": [
        "[-4, -8, 8, 40, 128, 232, 432, 680, 980]"
       ]
      }
     ],
     "prompt_number": 107
    },
    {
     "cell_type": "code",
     "collapsed": false,
     "input": [],
     "language": "python",
     "metadata": {},
     "outputs": []
    }
   ],
   "metadata": {}
  }
 ]
}